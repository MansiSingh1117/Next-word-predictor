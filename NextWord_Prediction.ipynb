{
 "cells": [
  {
   "cell_type": "markdown",
   "id": "53d8555d",
   "metadata": {},
   "source": [
    "# Next Word Prediction with NLP and Deep Learning"
   ]
  },
  {
   "cell_type": "markdown",
   "id": "8abe9a3c",
   "metadata": {},
   "source": [
    "- The model will consider the last word of a particular sentence and predict the next possible word. \n",
    "- We will be using methods of natural language processing, language modeling, and deep learning. \n",
    "- We will start by analyzing the data followed by the pre-processing of the data. \n",
    "- We will then tokenize this data and finally build the deep learning model. The deep learning model will be built using LSTM’s.\n"
   ]
  },
  {
   "cell_type": "markdown",
   "id": "8ce5b2ff",
   "metadata": {},
   "source": [
    "# Inserting required libraries"
   ]
  },
  {
   "cell_type": "code",
   "execution_count": 1,
   "id": "eaf45dc3",
   "metadata": {},
   "outputs": [],
   "source": [
    "import tensorflow as tf\n",
    "from tensorflow.keras.preprocessing.text import Tokenizer\n",
    "from tensorflow.keras.layers import Embedding, LSTM, Dense,Bidirectional\n",
    "from tensorflow.keras.models import Sequential\n",
    "from tensorflow.keras.utils import to_categorical\n",
    "from tensorflow.keras.optimizers import Adam\n",
    "import pickle\n",
    "import numpy as np\n",
    "import matplotlib.pyplot as plt\n",
    "import os"
   ]
  },
  {
   "cell_type": "markdown",
   "id": "84fc3786",
   "metadata": {},
   "source": [
    "<h3>1.PRE - PROCESSING THE DATASET</h3>"
   ]
  },
  {
   "cell_type": "markdown",
   "id": "6d135632",
   "metadata": {},
   "source": [
    "- Next step of our cleaning process involves replacing all the unnecessary extra new lines, the carriage return, and the Unicode character. \n",
    "- Finally, we will make sure we have only unique words. \n",
    "- We will consider each word only once and remove any additional repetitions. \n",
    "- This will help the model train better avoiding extra confusion due to the repetition of words."
   ]
  },
  {
   "cell_type": "code",
   "execution_count": 2,
   "id": "e73965e8",
   "metadata": {},
   "outputs": [
    {
     "name": "stdout",
     "output_type": "stream",
     "text": [
      "The First Line:  One morning, when Gregor Samsa woke from troubled dreams, he found\n",
      "\n",
      "The Last Line:  first to get up and stretch out her young body.\n"
     ]
    }
   ],
   "source": [
    "file = open(\"metamorphosis_clean.txt\", \"r\", encoding = \"utf8\")\n",
    "lines = []\n",
    "\n",
    "for i in file:\n",
    "    lines.append(i)\n",
    "    \n",
    "print(\"The First Line: \", lines[0])\n",
    "print(\"The Last Line: \", lines[-1])"
   ]
  },
  {
   "cell_type": "markdown",
   "id": "17a77cd8",
   "metadata": {},
   "source": [
    "### Cleaning the data:"
   ]
  },
  {
   "cell_type": "code",
   "execution_count": 3,
   "id": "52836d2e",
   "metadata": {},
   "outputs": [
    {
     "data": {
      "text/plain": [
       "'One morning, when Gregor Samsa woke from troubled dreams, he found himself transformed in his bed into a horrible vermin.  He lay on his armour-like back, and if he lifted his head a little he could see his brown belly, slightly domed and divided by arches into stiff sections.  The bedding was hardly able to cover it and seemed ready to slide off any moment.  His many legs, pitifully thin compared with the size of the rest of him, waved about helplessly as he looked.  \"What\\'s happened to me?\" he'"
      ]
     },
     "execution_count": 3,
     "metadata": {},
     "output_type": "execute_result"
    }
   ],
   "source": [
    "data = \"\"\n",
    "\n",
    "for i in lines:\n",
    "    data = ' '. join(lines)\n",
    "    \n",
    "data = data.replace('\\n', '').replace('\\r', '').replace('\\ufeff', '')\n",
    "\n",
    "#printing the data\n",
    "data[:500]"
   ]
  },
  {
   "cell_type": "code",
   "execution_count": 4,
   "id": "d447825c",
   "metadata": {},
   "outputs": [
    {
     "data": {
      "text/plain": [
       "'One morning  when Gregor Samsa woke from troubled dreams  he found himself transformed in his bed into a horrible vermin   He lay on his armour like back  and if he lifted his head a little he could see his brown belly  slightly domed and divided by arches into stiff sections   The bedding was hardly able to cover it and seemed ready to slide off any moment   His many legs  pitifully thin compared with the size of the rest of him  waved about helplessly as he looked    What s happened to me   he'"
      ]
     },
     "execution_count": 4,
     "metadata": {},
     "output_type": "execute_result"
    }
   ],
   "source": [
    "import string\n",
    "\n",
    "#removes all the punct\n",
    "translator = str.maketrans(string.punctuation, ' '*len(string.punctuation)) #map punctuation to space\n",
    "new_data = data.translate(translator)\n",
    "\n",
    "new_data[:500]"
   ]
  },
  {
   "cell_type": "code",
   "execution_count": 5,
   "id": "4253478a",
   "metadata": {},
   "outputs": [
    {
     "data": {
      "text/plain": [
       "'One morning, when Gregor Samsa woke from troubled dreams, he found himself transformed in his bed into a horrible vermin. He lay on armour-like back, and if lifted head little could see brown belly, slightly domed divided by arches stiff sections. The bedding was hardly able to cover it seemed ready slide off any moment. His many legs, pitifully thin compared with the size of rest him, waved about helplessly as looked. \"What\\'s happened me?\" thought. It wasn\\'t dream. room, proper human room altho'"
      ]
     },
     "execution_count": 5,
     "metadata": {},
     "output_type": "execute_result"
    }
   ],
   "source": [
    "#removes all the repedted words in the sentence\n",
    "z = []\n",
    "\n",
    "for i in data.split():\n",
    "    if i not in z:\n",
    "        z.append(i)\n",
    "        \n",
    "data = ' '.join(z)\n",
    "data[:500]"
   ]
  },
  {
   "cell_type": "markdown",
   "id": "a84757dd",
   "metadata": {},
   "source": [
    "### Tokenization:"
   ]
  },
  {
   "cell_type": "markdown",
   "id": "5da32177",
   "metadata": {},
   "source": [
    "- Tokenization refers to splitting bigger text data, essays, or corpus’s into smaller segments. "
   ]
  },
  {
   "cell_type": "code",
   "execution_count": 6,
   "id": "1602690a",
   "metadata": {},
   "outputs": [
    {
     "data": {
      "text/plain": [
       "[17, 53, 293, 2, 18, 729, 135, 730, 294, 8]"
      ]
     },
     "execution_count": 6,
     "metadata": {},
     "output_type": "execute_result"
    }
   ],
   "source": [
    "tokenizer = Tokenizer()\n",
    "tokenizer.fit_on_texts([data])\n",
    "\n",
    "# saving the tokenizer for predict function.\n",
    "pickle.dump(tokenizer, open('tokenizer1.pkl', 'wb'))\n",
    "\n",
    "sequence_data = tokenizer.texts_to_sequences([data])[0]\n",
    "sequence_data[:10]"
   ]
  },
  {
   "cell_type": "code",
   "execution_count": 7,
   "id": "1618af3d",
   "metadata": {},
   "outputs": [
    {
     "name": "stdout",
     "output_type": "stream",
     "text": [
      "2617\n"
     ]
    }
   ],
   "source": [
    "vocab_size = len(tokenizer.word_index) + 1\n",
    "print(vocab_size)"
   ]
  },
  {
   "cell_type": "code",
   "execution_count": 8,
   "id": "a56f722a",
   "metadata": {},
   "outputs": [
    {
     "name": "stdout",
     "output_type": "stream",
     "text": [
      "The Length of sequences are:  3889\n"
     ]
    },
    {
     "data": {
      "text/plain": [
       "array([[ 17,  53],\n",
       "       [ 53, 293],\n",
       "       [293,   2],\n",
       "       [  2,  18],\n",
       "       [ 18, 729],\n",
       "       [729, 135],\n",
       "       [135, 730],\n",
       "       [730, 294],\n",
       "       [294,   8],\n",
       "       [  8, 731]])"
      ]
     },
     "execution_count": 8,
     "metadata": {},
     "output_type": "execute_result"
    }
   ],
   "source": [
    "sequences = []\n",
    "\n",
    "for i in range(1, len(sequence_data)):\n",
    "    words = sequence_data[i-1:i+1]\n",
    "    sequences.append(words)\n",
    "    \n",
    "print(\"The Length of sequences are: \", len(sequences))\n",
    "sequences = np.array(sequences)\n",
    "sequences[:10]"
   ]
  },
  {
   "cell_type": "code",
   "execution_count": 9,
   "id": "6f1265b3",
   "metadata": {},
   "outputs": [],
   "source": [
    "X = []\n",
    "y = []\n",
    "\n",
    "for i in sequences:\n",
    "    X.append(i[0])\n",
    "    y.append(i[1])\n",
    "    \n",
    "X = np.array(X)\n",
    "y = np.array(y)"
   ]
  },
  {
   "cell_type": "code",
   "execution_count": 10,
   "id": "4144a587",
   "metadata": {},
   "outputs": [
    {
     "name": "stdout",
     "output_type": "stream",
     "text": [
      "The Data is:  [ 17  53 293   2  18]\n",
      "The responses are:  [ 53 293   2  18 729]\n"
     ]
    }
   ],
   "source": [
    "print(\"The Data is: \", X[:5])\n",
    "print(\"The responses are: \", y[:5])"
   ]
  },
  {
   "cell_type": "code",
   "execution_count": 11,
   "id": "1c060241",
   "metadata": {},
   "outputs": [
    {
     "data": {
      "text/plain": [
       "array([[0., 0., 0., ..., 0., 0., 0.],\n",
       "       [0., 0., 0., ..., 0., 0., 0.],\n",
       "       [0., 0., 1., ..., 0., 0., 0.],\n",
       "       [0., 0., 0., ..., 0., 0., 0.],\n",
       "       [0., 0., 0., ..., 0., 0., 0.]], dtype=float32)"
      ]
     },
     "execution_count": 11,
     "metadata": {},
     "output_type": "execute_result"
    }
   ],
   "source": [
    "y = to_categorical(y, num_classes=vocab_size)\n",
    "y[:5]"
   ]
  },
  {
   "cell_type": "markdown",
   "id": "8a4f0916",
   "metadata": {},
   "source": [
    "# CREATING THE MODEL:"
   ]
  },
  {
   "cell_type": "markdown",
   "id": "b4ec953d",
   "metadata": {},
   "source": [
    "- We will be building a sequential model. \n",
    "- We will then create an embedding layer and specify the input dimensions and output dimensions. "
   ]
  },
  {
   "cell_type": "markdown",
   "id": "27d7e4c1",
   "metadata": {},
   "source": [
    "##### An LSTM layer learns long-term dependencies between time steps in time series and sequence data"
   ]
  },
  {
   "cell_type": "code",
   "execution_count": 12,
   "id": "3850c9ff",
   "metadata": {},
   "outputs": [],
   "source": [
    "from tensorflow.keras import backend as K\n",
    "from tensorflow.keras.layers import Layer\n",
    "class attention(Layer):\n",
    "    def init(self):\n",
    "        super(attention,self).__init__()\n",
    "    def build(self,input_shape):\n",
    "        self.W=self.add_weight(name='att_weight',shape=(input_shape[-1],1),initializer=\"normal\")\n",
    "        self.b=self.add_weight(name='att_bias',shape=(input_shape[-2],1),initializer=\"zeros\")        \n",
    "        super(attention, self).build(input_shape)\n",
    "    def call(self,x):\n",
    "        e = K.tanh(K.dot(x,self.W)+self.b)\n",
    "        a = K.softmax(e, axis=1)\n",
    "        output = x*a\n",
    "        return K.sum(output, axis=1)"
   ]
  },
  {
   "cell_type": "code",
   "execution_count": 13,
   "id": "6f3fd7a1",
   "metadata": {},
   "outputs": [],
   "source": [
    "model = Sequential()\n",
    "model.add(Embedding(vocab_size, 10, input_length=1))\n",
    "model.add(Bidirectional(LSTM(1000, return_sequences=True)))\n",
    "model.add(attention())\n",
    "model.add(Dense(1000, activation=\"relu\"))\n",
    "model.add(Dense(vocab_size, activation=\"softmax\"))"
   ]
  },
  {
   "cell_type": "code",
   "execution_count": 14,
   "id": "450181b2",
   "metadata": {},
   "outputs": [
    {
     "name": "stdout",
     "output_type": "stream",
     "text": [
      "Model: \"sequential\"\n",
      "_________________________________________________________________\n",
      " Layer (type)                Output Shape              Param #   \n",
      "=================================================================\n",
      " embedding (Embedding)       (None, 1, 10)             26170     \n",
      "                                                                 \n",
      " bidirectional (Bidirectiona  (None, 1, 2000)          8088000   \n",
      " l)                                                              \n",
      "                                                                 \n",
      " attention (attention)       (None, 2000)              2001      \n",
      "                                                                 \n",
      " dense (Dense)               (None, 1000)              2001000   \n",
      "                                                                 \n",
      " dense_1 (Dense)             (None, 2617)              2619617   \n",
      "                                                                 \n",
      "=================================================================\n",
      "Total params: 12,736,788\n",
      "Trainable params: 12,736,788\n",
      "Non-trainable params: 0\n",
      "_________________________________________________________________\n"
     ]
    }
   ],
   "source": [
    "model.summary()"
   ]
  },
  {
   "cell_type": "markdown",
   "id": "04b7389b",
   "metadata": {},
   "source": [
    "<h4>MODEL PLOT</h4>"
   ]
  },
  {
   "cell_type": "code",
   "execution_count": 15,
   "id": "698544ef",
   "metadata": {},
   "outputs": [],
   "source": [
    "#!pip install pydot\n"
   ]
  },
  {
   "cell_type": "code",
   "execution_count": 16,
   "id": "84c52aef",
   "metadata": {},
   "outputs": [
    {
     "name": "stdout",
     "output_type": "stream",
     "text": [
      "You must install pydot (`pip install pydot`) and install graphviz (see instructions at https://graphviz.gitlab.io/download/) for plot_model/model_to_dot to work.\n"
     ]
    }
   ],
   "source": [
    "from tensorflow import keras\n",
    "from keras.utils.vis_utils import plot_model\n",
    "\n",
    "keras.utils.plot_model(model, to_file='model.png', show_layer_names=True)"
   ]
  },
  {
   "attachments": {
    "model.png": {
     "image/png": "[encoded data removed]"
    }
   },
   "cell_type": "markdown",
   "id": "220af379",
   "metadata": {},
   "source": [
    "![model.png](attachment:model.png)"
   ]
  },
  {
   "cell_type": "markdown",
   "id": "d31e3f0f",
   "metadata": {},
   "source": [
    "<h4>Callbacks:</h4>"
   ]
  },
  {
   "cell_type": "code",
   "execution_count": 17,
   "id": "6f1b4d2b",
   "metadata": {},
   "outputs": [],
   "source": [
    "from tensorflow.keras.callbacks import ModelCheckpoint\n",
    "from tensorflow.keras.callbacks import ReduceLROnPlateau\n",
    "from tensorflow.keras.callbacks import TensorBoard\n",
    "\n",
    "checkpoint = ModelCheckpoint(\"nextword1.h5\", monitor='loss', verbose=1,\n",
    "    save_best_only=True, mode='auto')\n",
    "\n",
    "reduce = ReduceLROnPlateau(monitor='loss', factor=0.2, patience=3, min_lr=0.0001, verbose = 1)\n",
    "\n",
    "logdir='logsnextword1'\n",
    "tensorboard_Visualization = TensorBoard(log_dir=logdir)"
   ]
  },
  {
   "cell_type": "markdown",
   "id": "3db8a2e8",
   "metadata": {},
   "source": [
    "<h4>Compile the model: </h4>"
   ]
  },
  {
   "cell_type": "code",
   "execution_count": 18,
   "id": "de1db91a",
   "metadata": {},
   "outputs": [],
   "source": [
    "model.compile(loss=\"categorical_crossentropy\", optimizer=Adam(learning_rate=0.001), metrics=['accuracy'])"
   ]
  },
  {
   "cell_type": "markdown",
   "id": "cf09c357",
   "metadata": {},
   "source": [
    "<h4>Fit the model</h4>"
   ]
  },
  {
   "cell_type": "code",
   "execution_count": 19,
   "id": "2c2e9616",
   "metadata": {},
   "outputs": [
    {
     "name": "stdout",
     "output_type": "stream",
     "text": [
      "Epoch 1/150\n",
      "61/61 [==============================] - ETA: 0s - loss: 7.8755 - accuracy: 0.0013\n",
      "Epoch 1: loss improved from inf to 7.87549, saving model to nextword1.h5\n",
      "61/61 [==============================] - 31s 257ms/step - loss: 7.8755 - accuracy: 0.0013 - lr: 0.0010\n",
      "Epoch 2/150\n",
      "61/61 [==============================] - ETA: 0s - loss: 7.8625 - accuracy: 0.0028\n",
      "Epoch 2: loss improved from 7.87549 to 7.86252, saving model to nextword1.h5\n",
      "61/61 [==============================] - 15s 250ms/step - loss: 7.8625 - accuracy: 0.0028 - lr: 0.0010\n",
      "Epoch 3/150\n",
      "61/61 [==============================] - ETA: 0s - loss: 7.8257 - accuracy: 0.0026\n",
      "Epoch 3: loss improved from 7.86252 to 7.82573, saving model to nextword1.h5\n",
      "61/61 [==============================] - 16s 267ms/step - loss: 7.8257 - accuracy: 0.0026 - lr: 0.0010\n",
      "Epoch 4/150\n",
      "61/61 [==============================] - ETA: 0s - loss: 7.6161 - accuracy: 0.0049\n",
      "Epoch 4: loss improved from 7.82573 to 7.61613, saving model to nextword1.h5\n",
      "61/61 [==============================] - 15s 248ms/step - loss: 7.6161 - accuracy: 0.0049 - lr: 0.0010\n",
      "Epoch 5/150\n",
      "61/61 [==============================] - ETA: 0s - loss: 7.3696 - accuracy: 0.0018\n",
      "Epoch 5: loss improved from 7.61613 to 7.36959, saving model to nextword1.h5\n",
      "61/61 [==============================] - 16s 261ms/step - loss: 7.3696 - accuracy: 0.0018 - lr: 0.0010\n",
      "Epoch 6/150\n",
      "61/61 [==============================] - ETA: 0s - loss: 7.0578 - accuracy: 0.0046\n",
      "Epoch 6: loss improved from 7.36959 to 7.05781, saving model to nextword1.h5\n",
      "61/61 [==============================] - 19s 320ms/step - loss: 7.0578 - accuracy: 0.0046 - lr: 0.0010\n",
      "Epoch 7/150\n",
      "61/61 [==============================] - ETA: 0s - loss: 6.7354 - accuracy: 0.0039\n",
      "Epoch 7: loss improved from 7.05781 to 6.73543, saving model to nextword1.h5\n",
      "61/61 [==============================] - 18s 301ms/step - loss: 6.7354 - accuracy: 0.0039 - lr: 0.0010\n",
      "Epoch 8/150\n",
      "61/61 [==============================] - ETA: 0s - loss: 6.4336 - accuracy: 0.0062\n",
      "Epoch 8: loss improved from 6.73543 to 6.43358, saving model to nextword1.h5\n",
      "61/61 [==============================] - 15s 253ms/step - loss: 6.4336 - accuracy: 0.0062 - lr: 0.0010\n",
      "Epoch 9/150\n",
      "61/61 [==============================] - ETA: 0s - loss: 6.1309 - accuracy: 0.0105\n",
      "Epoch 9: loss improved from 6.43358 to 6.13090, saving model to nextword1.h5\n",
      "61/61 [==============================] - 14s 226ms/step - loss: 6.1309 - accuracy: 0.0105 - lr: 0.0010\n",
      "Epoch 10/150\n",
      "61/61 [==============================] - ETA: 0s - loss: 5.7268 - accuracy: 0.0131\n",
      "Epoch 10: loss improved from 6.13090 to 5.72678, saving model to nextword1.h5\n",
      "61/61 [==============================] - 14s 228ms/step - loss: 5.7268 - accuracy: 0.0131 - lr: 0.0010\n",
      "Epoch 11/150\n",
      "61/61 [==============================] - ETA: 0s - loss: 5.1539 - accuracy: 0.0350\n",
      "Epoch 11: loss improved from 5.72678 to 5.15387, saving model to nextword1.h5\n",
      "61/61 [==============================] - 16s 257ms/step - loss: 5.1539 - accuracy: 0.0350 - lr: 0.0010\n",
      "Epoch 12/150\n",
      "61/61 [==============================] - ETA: 0s - loss: 4.4094 - accuracy: 0.0751\n",
      "Epoch 12: loss improved from 5.15387 to 4.40945, saving model to nextword1.h5\n",
      "61/61 [==============================] - 16s 269ms/step - loss: 4.4094 - accuracy: 0.0751 - lr: 0.0010\n",
      "Epoch 13/150\n",
      "61/61 [==============================] - ETA: 0s - loss: 3.6736 - accuracy: 0.1540\n",
      "Epoch 13: loss improved from 4.40945 to 3.67356, saving model to nextword1.h5\n",
      "61/61 [==============================] - 20s 333ms/step - loss: 3.6736 - accuracy: 0.1540 - lr: 0.0010\n",
      "Epoch 14/150\n",
      "61/61 [==============================] - ETA: 0s - loss: 3.0313 - accuracy: 0.2664\n",
      "Epoch 14: loss improved from 3.67356 to 3.03130, saving model to nextword1.h5\n",
      "61/61 [==============================] - 16s 265ms/step - loss: 3.0313 - accuracy: 0.2664 - lr: 0.0010\n",
      "Epoch 15/150\n",
      "61/61 [==============================] - ETA: 0s - loss: 2.5207 - accuracy: 0.3649\n",
      "Epoch 15: loss improved from 3.03130 to 2.52068, saving model to nextword1.h5\n",
      "61/61 [==============================] - 11s 189ms/step - loss: 2.5207 - accuracy: 0.3649 - lr: 0.0010\n",
      "Epoch 16/150\n",
      "61/61 [==============================] - ETA: 0s - loss: 2.1163 - accuracy: 0.4520\n",
      "Epoch 16: loss improved from 2.52068 to 2.11633, saving model to nextword1.h5\n",
      "61/61 [==============================] - 14s 232ms/step - loss: 2.1163 - accuracy: 0.4520 - lr: 0.0010\n",
      "Epoch 17/150\n",
      "61/61 [==============================] - ETA: 0s - loss: 1.8189 - accuracy: 0.5210\n",
      "Epoch 17: loss improved from 2.11633 to 1.81893, saving model to nextword1.h5\n",
      "61/61 [==============================] - 17s 287ms/step - loss: 1.8189 - accuracy: 0.5210 - lr: 0.0010\n",
      "Epoch 18/150\n",
      "61/61 [==============================] - ETA: 0s - loss: 1.6144 - accuracy: 0.5469\n",
      "Epoch 18: loss improved from 1.81893 to 1.61445, saving model to nextword1.h5\n",
      "61/61 [==============================] - 17s 286ms/step - loss: 1.6144 - accuracy: 0.5469 - lr: 0.0010\n",
      "Epoch 19/150\n",
      "61/61 [==============================] - ETA: 0s - loss: 1.4476 - accuracy: 0.5719\n",
      "Epoch 19: loss improved from 1.61445 to 1.44763, saving model to nextword1.h5\n",
      "61/61 [==============================] - 15s 252ms/step - loss: 1.4476 - accuracy: 0.5719 - lr: 0.0010\n",
      "Epoch 20/150\n",
      "61/61 [==============================] - ETA: 0s - loss: 1.3336 - accuracy: 0.5760\n",
      "Epoch 20: loss improved from 1.44763 to 1.33361, saving model to nextword1.h5\n",
      "61/61 [==============================] - 14s 228ms/step - loss: 1.3336 - accuracy: 0.5760 - lr: 0.0010\n",
      "Epoch 21/150\n",
      "61/61 [==============================] - ETA: 0s - loss: 1.2554 - accuracy: 0.5729\n",
      "Epoch 21: loss improved from 1.33361 to 1.25536, saving model to nextword1.h5\n",
      "61/61 [==============================] - 14s 225ms/step - loss: 1.2554 - accuracy: 0.5729 - lr: 0.0010\n",
      "Epoch 22/150\n",
      "61/61 [==============================] - ETA: 0s - loss: 1.2072 - accuracy: 0.5762\n",
      "Epoch 22: loss improved from 1.25536 to 1.20722, saving model to nextword1.h5\n",
      "61/61 [==============================] - 14s 230ms/step - loss: 1.2072 - accuracy: 0.5762 - lr: 0.0010\n",
      "Epoch 23/150\n",
      "61/61 [==============================] - ETA: 0s - loss: 1.1518 - accuracy: 0.5744\n",
      "Epoch 23: loss improved from 1.20722 to 1.15182, saving model to nextword1.h5\n",
      "61/61 [==============================] - 15s 249ms/step - loss: 1.1518 - accuracy: 0.5744 - lr: 0.0010\n",
      "Epoch 24/150\n",
      "61/61 [==============================] - ETA: 0s - loss: 1.1053 - accuracy: 0.5765\n",
      "Epoch 24: loss improved from 1.15182 to 1.10533, saving model to nextword1.h5\n",
      "61/61 [==============================] - 17s 274ms/step - loss: 1.1053 - accuracy: 0.5765 - lr: 0.0010\n",
      "Epoch 25/150\n",
      "61/61 [==============================] - ETA: 0s - loss: 1.0677 - accuracy: 0.5791\n",
      "Epoch 25: loss improved from 1.10533 to 1.06772, saving model to nextword1.h5\n",
      "61/61 [==============================] - 18s 292ms/step - loss: 1.0677 - accuracy: 0.5791 - lr: 0.0010\n",
      "Epoch 26/150\n",
      "61/61 [==============================] - ETA: 0s - loss: 1.0391 - accuracy: 0.5834\n",
      "Epoch 26: loss improved from 1.06772 to 1.03908, saving model to nextword1.h5\n",
      "61/61 [==============================] - 16s 258ms/step - loss: 1.0391 - accuracy: 0.5834 - lr: 0.0010\n",
      "Epoch 27/150\n",
      "61/61 [==============================] - ETA: 0s - loss: 1.0211 - accuracy: 0.5750\n",
      "Epoch 27: loss improved from 1.03908 to 1.02109, saving model to nextword1.h5\n",
      "61/61 [==============================] - 14s 225ms/step - loss: 1.0211 - accuracy: 0.5750 - lr: 0.0010\n",
      "Epoch 28/150\n",
      "61/61 [==============================] - ETA: 0s - loss: 1.0012 - accuracy: 0.5760\n",
      "Epoch 28: loss improved from 1.02109 to 1.00120, saving model to nextword1.h5\n",
      "61/61 [==============================] - 14s 223ms/step - loss: 1.0012 - accuracy: 0.5760 - lr: 0.0010\n",
      "Epoch 29/150\n",
      "61/61 [==============================] - ETA: 0s - loss: 0.9714 - accuracy: 0.5811\n",
      "Epoch 29: loss improved from 1.00120 to 0.97144, saving model to nextword1.h5\n",
      "61/61 [==============================] - 14s 227ms/step - loss: 0.9714 - accuracy: 0.5811 - lr: 0.0010\n",
      "Epoch 30/150\n",
      "61/61 [==============================] - ETA: 0s - loss: 0.9571 - accuracy: 0.5773\n",
      "Epoch 30: loss improved from 0.97144 to 0.95714, saving model to nextword1.h5\n",
      "61/61 [==============================] - 16s 272ms/step - loss: 0.9571 - accuracy: 0.5773 - lr: 0.0010\n",
      "Epoch 31/150\n",
      "61/61 [==============================] - ETA: 0s - loss: 0.9405 - accuracy: 0.5778\n",
      "Epoch 31: loss improved from 0.95714 to 0.94045, saving model to nextword1.h5\n",
      "61/61 [==============================] - 17s 285ms/step - loss: 0.9405 - accuracy: 0.5778 - lr: 0.0010\n",
      "Epoch 32/150\n",
      "61/61 [==============================] - ETA: 0s - loss: 0.9271 - accuracy: 0.5786\n",
      "Epoch 32: loss improved from 0.94045 to 0.92709, saving model to nextword1.h5\n",
      "61/61 [==============================] - 16s 258ms/step - loss: 0.9271 - accuracy: 0.5786 - lr: 0.0010\n",
      "Epoch 33/150\n",
      "61/61 [==============================] - ETA: 0s - loss: 0.9144 - accuracy: 0.5827\n",
      "Epoch 33: loss improved from 0.92709 to 0.91443, saving model to nextword1.h5\n",
      "61/61 [==============================] - 13s 221ms/step - loss: 0.9144 - accuracy: 0.5827 - lr: 0.0010\n",
      "Epoch 34/150\n",
      "61/61 [==============================] - ETA: 0s - loss: 0.9104 - accuracy: 0.5724\n",
      "Epoch 34: loss improved from 0.91443 to 0.91039, saving model to nextword1.h5\n",
      "61/61 [==============================] - 14s 225ms/step - loss: 0.9104 - accuracy: 0.5724 - lr: 0.0010\n",
      "Epoch 35/150\n",
      "61/61 [==============================] - ETA: 0s - loss: 0.8975 - accuracy: 0.5750\n",
      "Epoch 35: loss improved from 0.91039 to 0.89746, saving model to nextword1.h5\n",
      "61/61 [==============================] - 14s 226ms/step - loss: 0.8975 - accuracy: 0.5750 - lr: 0.0010\n",
      "Epoch 36/150\n",
      "61/61 [==============================] - ETA: 0s - loss: 0.8865 - accuracy: 0.5798\n",
      "Epoch 36: loss improved from 0.89746 to 0.88651, saving model to nextword1.h5\n",
      "61/61 [==============================] - 14s 237ms/step - loss: 0.8865 - accuracy: 0.5798 - lr: 0.0010\n",
      "Epoch 37/150\n",
      "61/61 [==============================] - ETA: 0s - loss: 0.8765 - accuracy: 0.5845\n",
      "Epoch 37: loss improved from 0.88651 to 0.87654, saving model to nextword1.h5\n",
      "61/61 [==============================] - 15s 255ms/step - loss: 0.8765 - accuracy: 0.5845 - lr: 0.0010\n",
      "Epoch 38/150\n",
      "61/61 [==============================] - ETA: 0s - loss: 0.8699 - accuracy: 0.5734\n",
      "Epoch 38: loss improved from 0.87654 to 0.86993, saving model to nextword1.h5\n",
      "61/61 [==============================] - 16s 257ms/step - loss: 0.8699 - accuracy: 0.5734 - lr: 0.0010\n",
      "Epoch 39/150\n",
      "61/61 [==============================] - ETA: 0s - loss: 0.8618 - accuracy: 0.5778\n",
      "Epoch 39: loss improved from 0.86993 to 0.86176, saving model to nextword1.h5\n",
      "61/61 [==============================] - 17s 288ms/step - loss: 0.8618 - accuracy: 0.5778 - lr: 0.0010\n",
      "Epoch 40/150\n",
      "61/61 [==============================] - ETA: 0s - loss: 0.8570 - accuracy: 0.5809\n",
      "Epoch 40: loss improved from 0.86176 to 0.85698, saving model to nextword1.h5\n",
      "61/61 [==============================] - 15s 245ms/step - loss: 0.8570 - accuracy: 0.5809 - lr: 0.0010\n",
      "Epoch 41/150\n",
      "61/61 [==============================] - ETA: 0s - loss: 0.8441 - accuracy: 0.5732\n",
      "Epoch 41: loss improved from 0.85698 to 0.84409, saving model to nextword1.h5\n",
      "61/61 [==============================] - 13s 209ms/step - loss: 0.8441 - accuracy: 0.5732 - lr: 0.0010\n",
      "Epoch 42/150\n",
      "61/61 [==============================] - ETA: 0s - loss: 0.8419 - accuracy: 0.5811\n",
      "Epoch 42: loss improved from 0.84409 to 0.84187, saving model to nextword1.h5\n",
      "61/61 [==============================] - 14s 226ms/step - loss: 0.8419 - accuracy: 0.5811 - lr: 0.0010\n",
      "Epoch 43/150\n",
      "61/61 [==============================] - ETA: 0s - loss: 0.8382 - accuracy: 0.5765\n",
      "Epoch 43: loss improved from 0.84187 to 0.83822, saving model to nextword1.h5\n",
      "61/61 [==============================] - 14s 230ms/step - loss: 0.8382 - accuracy: 0.5765 - lr: 0.0010\n",
      "Epoch 44/150\n",
      "61/61 [==============================] - ETA: 0s - loss: 0.8299 - accuracy: 0.5780\n",
      "Epoch 44: loss improved from 0.83822 to 0.82992, saving model to nextword1.h5\n",
      "61/61 [==============================] - 15s 252ms/step - loss: 0.8299 - accuracy: 0.5780 - lr: 0.0010\n",
      "Epoch 45/150\n",
      "61/61 [==============================] - ETA: 0s - loss: 0.8204 - accuracy: 0.5765\n",
      "Epoch 45: loss improved from 0.82992 to 0.82045, saving model to nextword1.h5\n",
      "61/61 [==============================] - 15s 245ms/step - loss: 0.8204 - accuracy: 0.5765 - lr: 0.0010\n",
      "Epoch 46/150\n",
      "61/61 [==============================] - ETA: 0s - loss: 0.8192 - accuracy: 0.5791\n",
      "Epoch 46: loss improved from 0.82045 to 0.81924, saving model to nextword1.h5\n",
      "61/61 [==============================] - 16s 259ms/step - loss: 0.8192 - accuracy: 0.5791 - lr: 0.0010\n",
      "Epoch 47/150\n",
      "61/61 [==============================] - ETA: 0s - loss: 0.8118 - accuracy: 0.5796\n",
      "Epoch 47: loss improved from 0.81924 to 0.81180, saving model to nextword1.h5\n",
      "61/61 [==============================] - 17s 286ms/step - loss: 0.8118 - accuracy: 0.5796 - lr: 0.0010\n",
      "Epoch 48/150\n",
      "61/61 [==============================] - ETA: 0s - loss: 0.8052 - accuracy: 0.5747\n",
      "Epoch 48: loss improved from 0.81180 to 0.80521, saving model to nextword1.h5\n",
      "61/61 [==============================] - 14s 233ms/step - loss: 0.8052 - accuracy: 0.5747 - lr: 0.0010\n",
      "Epoch 49/150\n",
      "61/61 [==============================] - ETA: 0s - loss: 0.8051 - accuracy: 0.5798\n",
      "Epoch 49: loss improved from 0.80521 to 0.80510, saving model to nextword1.h5\n",
      "61/61 [==============================] - 14s 228ms/step - loss: 0.8051 - accuracy: 0.5798 - lr: 0.0010\n",
      "Epoch 50/150\n",
      "61/61 [==============================] - ETA: 0s - loss: 0.8022 - accuracy: 0.5724\n",
      "Epoch 50: loss improved from 0.80510 to 0.80223, saving model to nextword1.h5\n",
      "61/61 [==============================] - 13s 217ms/step - loss: 0.8022 - accuracy: 0.5724 - lr: 0.0010\n",
      "Epoch 51/150\n",
      "61/61 [==============================] - ETA: 0s - loss: 0.7979 - accuracy: 0.5801\n",
      "Epoch 51: loss improved from 0.80223 to 0.79793, saving model to nextword1.h5\n",
      "61/61 [==============================] - 15s 246ms/step - loss: 0.7979 - accuracy: 0.5801 - lr: 0.0010\n",
      "Epoch 52/150\n",
      "61/61 [==============================] - ETA: 0s - loss: 0.7948 - accuracy: 0.5786\n",
      "Epoch 52: loss improved from 0.79793 to 0.79475, saving model to nextword1.h5\n",
      "61/61 [==============================] - 15s 245ms/step - loss: 0.7948 - accuracy: 0.5786 - lr: 0.0010\n",
      "Epoch 53/150\n",
      "61/61 [==============================] - ETA: 0s - loss: 0.7891 - accuracy: 0.5822\n",
      "Epoch 53: loss improved from 0.79475 to 0.78907, saving model to nextword1.h5\n",
      "61/61 [==============================] - 15s 254ms/step - loss: 0.7891 - accuracy: 0.5822 - lr: 0.0010\n",
      "Epoch 54/150\n",
      "61/61 [==============================] - ETA: 0s - loss: 0.7891 - accuracy: 0.5744\n",
      "Epoch 54: loss did not improve from 0.78907\n",
      "61/61 [==============================] - 13s 211ms/step - loss: 0.7891 - accuracy: 0.5744 - lr: 0.0010\n",
      "Epoch 55/150\n",
      "61/61 [==============================] - ETA: 0s - loss: 0.7804 - accuracy: 0.5783\n",
      "Epoch 55: loss improved from 0.78907 to 0.78039, saving model to nextword1.h5\n",
      "61/61 [==============================] - 14s 228ms/step - loss: 0.7804 - accuracy: 0.5783 - lr: 0.0010\n",
      "Epoch 56/150\n",
      "61/61 [==============================] - ETA: 0s - loss: 0.7773 - accuracy: 0.5755\n",
      "Epoch 56: loss improved from 0.78039 to 0.77728, saving model to nextword1.h5\n",
      "61/61 [==============================] - 15s 245ms/step - loss: 0.7773 - accuracy: 0.5755 - lr: 0.0010\n",
      "Epoch 57/150\n",
      "61/61 [==============================] - ETA: 0s - loss: 0.7774 - accuracy: 0.5747\n",
      "Epoch 57: loss did not improve from 0.77728\n",
      "61/61 [==============================] - 12s 192ms/step - loss: 0.7774 - accuracy: 0.5747 - lr: 0.0010\n",
      "Epoch 58/150\n",
      "61/61 [==============================] - ETA: 0s - loss: 0.7744 - accuracy: 0.5786\n",
      "Epoch 58: loss improved from 0.77728 to 0.77437, saving model to nextword1.h5\n",
      "61/61 [==============================] - 14s 230ms/step - loss: 0.7744 - accuracy: 0.5786 - lr: 0.0010\n",
      "Epoch 59/150\n",
      "61/61 [==============================] - ETA: 0s - loss: 0.7725 - accuracy: 0.5768\n",
      "Epoch 59: loss improved from 0.77437 to 0.77253, saving model to nextword1.h5\n",
      "61/61 [==============================] - 18s 289ms/step - loss: 0.7725 - accuracy: 0.5768 - lr: 0.0010\n",
      "Epoch 60/150\n",
      "61/61 [==============================] - ETA: 0s - loss: 0.7661 - accuracy: 0.5732\n",
      "Epoch 60: loss improved from 0.77253 to 0.76610, saving model to nextword1.h5\n",
      "61/61 [==============================] - 15s 252ms/step - loss: 0.7661 - accuracy: 0.5732 - lr: 0.0010\n",
      "Epoch 61/150\n",
      "61/61 [==============================] - ETA: 0s - loss: 0.7695 - accuracy: 0.5696\n",
      "Epoch 61: loss did not improve from 0.76610\n",
      "61/61 [==============================] - 13s 208ms/step - loss: 0.7695 - accuracy: 0.5696 - lr: 0.0010\n",
      "Epoch 62/150\n",
      "61/61 [==============================] - ETA: 0s - loss: 0.7623 - accuracy: 0.5760\n",
      "Epoch 62: loss improved from 0.76610 to 0.76231, saving model to nextword1.h5\n",
      "61/61 [==============================] - 15s 253ms/step - loss: 0.7623 - accuracy: 0.5760 - lr: 0.0010\n",
      "Epoch 63/150\n",
      "61/61 [==============================] - ETA: 0s - loss: 0.7593 - accuracy: 0.5716\n",
      "Epoch 63: loss improved from 0.76231 to 0.75931, saving model to nextword1.h5\n",
      "61/61 [==============================] - 13s 209ms/step - loss: 0.7593 - accuracy: 0.5716 - lr: 0.0010\n",
      "Epoch 64/150\n",
      "61/61 [==============================] - ETA: 0s - loss: 0.7579 - accuracy: 0.5760\n",
      "Epoch 64: loss improved from 0.75931 to 0.75787, saving model to nextword1.h5\n",
      "61/61 [==============================] - 13s 213ms/step - loss: 0.7579 - accuracy: 0.5760 - lr: 0.0010\n",
      "Epoch 65/150\n",
      "61/61 [==============================] - ETA: 0s - loss: 0.7548 - accuracy: 0.5788\n",
      "Epoch 65: loss improved from 0.75787 to 0.75482, saving model to nextword1.h5\n",
      "61/61 [==============================] - 15s 244ms/step - loss: 0.7548 - accuracy: 0.5788 - lr: 0.0010\n",
      "Epoch 66/150\n",
      "61/61 [==============================] - ETA: 0s - loss: 0.7553 - accuracy: 0.5768\n",
      "Epoch 66: loss did not improve from 0.75482\n",
      "61/61 [==============================] - 13s 215ms/step - loss: 0.7553 - accuracy: 0.5768 - lr: 0.0010\n",
      "Epoch 67/150\n",
      "61/61 [==============================] - ETA: 0s - loss: 0.7503 - accuracy: 0.5783\n",
      "Epoch 67: loss improved from 0.75482 to 0.75033, saving model to nextword1.h5\n",
      "61/61 [==============================] - 15s 239ms/step - loss: 0.7503 - accuracy: 0.5783 - lr: 0.0010\n",
      "Epoch 68/150\n",
      "61/61 [==============================] - ETA: 0s - loss: 0.7523 - accuracy: 0.5734\n",
      "Epoch 68: loss did not improve from 0.75033\n",
      "61/61 [==============================] - 13s 219ms/step - loss: 0.7523 - accuracy: 0.5734 - lr: 0.0010\n",
      "Epoch 69/150\n",
      "61/61 [==============================] - ETA: 0s - loss: 0.7453 - accuracy: 0.5786\n",
      "Epoch 69: loss improved from 0.75033 to 0.74532, saving model to nextword1.h5\n",
      "61/61 [==============================] - 14s 227ms/step - loss: 0.7453 - accuracy: 0.5786 - lr: 0.0010\n",
      "Epoch 70/150\n",
      "61/61 [==============================] - ETA: 0s - loss: 0.7477 - accuracy: 0.5778\n",
      "Epoch 70: loss did not improve from 0.74532\n",
      "61/61 [==============================] - 12s 201ms/step - loss: 0.7477 - accuracy: 0.5778 - lr: 0.0010\n",
      "Epoch 71/150\n",
      "61/61 [==============================] - ETA: 0s - loss: 0.7447 - accuracy: 0.5765\n",
      "Epoch 71: loss improved from 0.74532 to 0.74471, saving model to nextword1.h5\n",
      "61/61 [==============================] - 15s 246ms/step - loss: 0.7447 - accuracy: 0.5765 - lr: 0.0010\n",
      "Epoch 72/150\n",
      "61/61 [==============================] - ETA: 0s - loss: 0.7425 - accuracy: 0.5770\n",
      "Epoch 72: loss improved from 0.74471 to 0.74248, saving model to nextword1.h5\n",
      "61/61 [==============================] - 14s 233ms/step - loss: 0.7425 - accuracy: 0.5770 - lr: 0.0010\n",
      "Epoch 73/150\n",
      "61/61 [==============================] - ETA: 0s - loss: 0.7381 - accuracy: 0.5778\n",
      "Epoch 73: loss improved from 0.74248 to 0.73812, saving model to nextword1.h5\n",
      "61/61 [==============================] - 16s 259ms/step - loss: 0.7381 - accuracy: 0.5778 - lr: 0.0010\n",
      "Epoch 74/150\n",
      "61/61 [==============================] - ETA: 0s - loss: 0.7393 - accuracy: 0.5737\n",
      "Epoch 74: loss did not improve from 0.73812\n",
      "61/61 [==============================] - 13s 209ms/step - loss: 0.7393 - accuracy: 0.5737 - lr: 0.0010\n",
      "Epoch 75/150\n",
      "61/61 [==============================] - ETA: 0s - loss: 0.7374 - accuracy: 0.5832\n",
      "Epoch 75: loss improved from 0.73812 to 0.73743, saving model to nextword1.h5\n",
      "61/61 [==============================] - 14s 233ms/step - loss: 0.7374 - accuracy: 0.5832 - lr: 0.0010\n",
      "Epoch 76/150\n",
      "61/61 [==============================] - ETA: 0s - loss: 0.7353 - accuracy: 0.5798\n",
      "Epoch 76: loss improved from 0.73743 to 0.73527, saving model to nextword1.h5\n",
      "61/61 [==============================] - 14s 235ms/step - loss: 0.7353 - accuracy: 0.5798 - lr: 0.0010\n",
      "Epoch 77/150\n",
      "61/61 [==============================] - ETA: 0s - loss: 0.7319 - accuracy: 0.5675\n",
      "Epoch 77: loss improved from 0.73527 to 0.73185, saving model to nextword1.h5\n",
      "61/61 [==============================] - 14s 226ms/step - loss: 0.7319 - accuracy: 0.5675 - lr: 0.0010\n",
      "Epoch 78/150\n",
      "61/61 [==============================] - ETA: 0s - loss: 0.7340 - accuracy: 0.5762\n",
      "Epoch 78: loss did not improve from 0.73185\n",
      "61/61 [==============================] - 11s 183ms/step - loss: 0.7340 - accuracy: 0.5762 - lr: 0.0010\n",
      "Epoch 79/150\n",
      "61/61 [==============================] - ETA: 0s - loss: 0.7300 - accuracy: 0.5778\n",
      "Epoch 79: loss improved from 0.73185 to 0.73000, saving model to nextword1.h5\n",
      "61/61 [==============================] - 17s 279ms/step - loss: 0.7300 - accuracy: 0.5778 - lr: 0.0010\n",
      "Epoch 80/150\n",
      "61/61 [==============================] - ETA: 0s - loss: 0.7278 - accuracy: 0.5796\n",
      "Epoch 80: loss improved from 0.73000 to 0.72775, saving model to nextword1.h5\n",
      "61/61 [==============================] - 15s 246ms/step - loss: 0.7278 - accuracy: 0.5796 - lr: 0.0010\n",
      "Epoch 81/150\n",
      "61/61 [==============================] - ETA: 0s - loss: 0.7242 - accuracy: 0.5747\n",
      "Epoch 81: loss improved from 0.72775 to 0.72416, saving model to nextword1.h5\n",
      "61/61 [==============================] - 15s 238ms/step - loss: 0.7242 - accuracy: 0.5747 - lr: 0.0010\n",
      "Epoch 82/150\n",
      "61/61 [==============================] - ETA: 0s - loss: 0.7257 - accuracy: 0.5775\n",
      "Epoch 82: loss did not improve from 0.72416\n",
      "61/61 [==============================] - 11s 187ms/step - loss: 0.7257 - accuracy: 0.5775 - lr: 0.0010\n",
      "Epoch 83/150\n",
      "61/61 [==============================] - ETA: 0s - loss: 0.7235 - accuracy: 0.5786\n",
      "Epoch 83: loss improved from 0.72416 to 0.72350, saving model to nextword1.h5\n",
      "61/61 [==============================] - 15s 252ms/step - loss: 0.7235 - accuracy: 0.5786 - lr: 0.0010\n",
      "Epoch 84/150\n",
      "61/61 [==============================] - ETA: 0s - loss: 0.7174 - accuracy: 0.5824\n",
      "Epoch 84: loss improved from 0.72350 to 0.71737, saving model to nextword1.h5\n",
      "61/61 [==============================] - 16s 260ms/step - loss: 0.7174 - accuracy: 0.5824 - lr: 0.0010\n",
      "Epoch 85/150\n",
      "61/61 [==============================] - ETA: 0s - loss: 0.7166 - accuracy: 0.5775\n",
      "Epoch 85: loss improved from 0.71737 to 0.71664, saving model to nextword1.h5\n",
      "61/61 [==============================] - 17s 274ms/step - loss: 0.7166 - accuracy: 0.5775 - lr: 0.0010\n",
      "Epoch 86/150\n",
      "61/61 [==============================] - ETA: 0s - loss: 0.7227 - accuracy: 0.5721\n",
      "Epoch 86: loss did not improve from 0.71664\n",
      "61/61 [==============================] - 13s 219ms/step - loss: 0.7227 - accuracy: 0.5721 - lr: 0.0010\n",
      "Epoch 87/150\n",
      "61/61 [==============================] - ETA: 0s - loss: 0.7164 - accuracy: 0.5701\n",
      "Epoch 87: loss improved from 0.71664 to 0.71636, saving model to nextword1.h5\n",
      "61/61 [==============================] - 14s 234ms/step - loss: 0.7164 - accuracy: 0.5701 - lr: 0.0010\n",
      "Epoch 88/150\n",
      "61/61 [==============================] - ETA: 0s - loss: 0.7165 - accuracy: 0.5806\n",
      "Epoch 88: loss did not improve from 0.71636\n",
      "61/61 [==============================] - 13s 218ms/step - loss: 0.7165 - accuracy: 0.5806 - lr: 0.0010\n",
      "Epoch 89/150\n",
      "61/61 [==============================] - ETA: 0s - loss: 0.7146 - accuracy: 0.5690\n",
      "Epoch 89: loss improved from 0.71636 to 0.71463, saving model to nextword1.h5\n",
      "61/61 [==============================] - 17s 272ms/step - loss: 0.7146 - accuracy: 0.5690 - lr: 0.0010\n",
      "Epoch 90/150\n",
      "61/61 [==============================] - ETA: 0s - loss: 0.7123 - accuracy: 0.5801\n",
      "Epoch 90: loss improved from 0.71463 to 0.71233, saving model to nextword1.h5\n",
      "61/61 [==============================] - 18s 289ms/step - loss: 0.7123 - accuracy: 0.5801 - lr: 0.0010\n",
      "Epoch 91/150\n",
      "61/61 [==============================] - ETA: 0s - loss: 0.7146 - accuracy: 0.5775\n",
      "Epoch 91: loss did not improve from 0.71233\n",
      "61/61 [==============================] - 14s 227ms/step - loss: 0.7146 - accuracy: 0.5775 - lr: 0.0010\n",
      "Epoch 92/150\n",
      "61/61 [==============================] - ETA: 0s - loss: 0.7157 - accuracy: 0.5809\n",
      "Epoch 92: loss did not improve from 0.71233\n",
      "61/61 [==============================] - 14s 226ms/step - loss: 0.7157 - accuracy: 0.5809 - lr: 0.0010\n",
      "Epoch 93/150\n",
      "61/61 [==============================] - ETA: 0s - loss: 0.7098 - accuracy: 0.5768\n",
      "Epoch 93: loss improved from 0.71233 to 0.70980, saving model to nextword1.h5\n",
      "61/61 [==============================] - 17s 276ms/step - loss: 0.7098 - accuracy: 0.5768 - lr: 0.0010\n",
      "Epoch 94/150\n",
      "61/61 [==============================] - ETA: 0s - loss: 0.7106 - accuracy: 0.5819\n",
      "Epoch 94: loss did not improve from 0.70980\n",
      "61/61 [==============================] - 13s 209ms/step - loss: 0.7106 - accuracy: 0.5819 - lr: 0.0010\n",
      "Epoch 95/150\n",
      "61/61 [==============================] - ETA: 0s - loss: 0.7108 - accuracy: 0.5744\n",
      "Epoch 95: loss did not improve from 0.70980\n",
      "61/61 [==============================] - 13s 220ms/step - loss: 0.7108 - accuracy: 0.5744 - lr: 0.0010\n",
      "Epoch 96/150\n",
      "61/61 [==============================] - ETA: 0s - loss: 0.7084 - accuracy: 0.5762\n",
      "Epoch 96: loss improved from 0.70980 to 0.70841, saving model to nextword1.h5\n",
      "61/61 [==============================] - 14s 234ms/step - loss: 0.7084 - accuracy: 0.5762 - lr: 0.0010\n",
      "Epoch 97/150\n",
      "61/61 [==============================] - ETA: 0s - loss: 0.7057 - accuracy: 0.5765\n",
      "Epoch 97: loss improved from 0.70841 to 0.70575, saving model to nextword1.h5\n",
      "61/61 [==============================] - 15s 249ms/step - loss: 0.7057 - accuracy: 0.5765 - lr: 0.0010\n",
      "Epoch 98/150\n",
      "61/61 [==============================] - ETA: 0s - loss: 0.7009 - accuracy: 0.5809\n",
      "Epoch 98: loss improved from 0.70575 to 0.70090, saving model to nextword1.h5\n",
      "61/61 [==============================] - 17s 273ms/step - loss: 0.7009 - accuracy: 0.5809 - lr: 0.0010\n",
      "Epoch 99/150\n",
      "61/61 [==============================] - ETA: 0s - loss: 0.7013 - accuracy: 0.5770\n",
      "Epoch 99: loss did not improve from 0.70090\n",
      "61/61 [==============================] - 13s 217ms/step - loss: 0.7013 - accuracy: 0.5770 - lr: 0.0010\n",
      "Epoch 100/150\n",
      "61/61 [==============================] - ETA: 0s - loss: 0.6999 - accuracy: 0.5773\n",
      "Epoch 100: loss improved from 0.70090 to 0.69991, saving model to nextword1.h5\n",
      "61/61 [==============================] - 16s 266ms/step - loss: 0.6999 - accuracy: 0.5773 - lr: 0.0010\n",
      "Epoch 101/150\n",
      "61/61 [==============================] - ETA: 0s - loss: 0.6996 - accuracy: 0.5786\n",
      "Epoch 101: loss improved from 0.69991 to 0.69955, saving model to nextword1.h5\n",
      "61/61 [==============================] - 14s 235ms/step - loss: 0.6996 - accuracy: 0.5786 - lr: 0.0010\n",
      "Epoch 102/150\n",
      "61/61 [==============================] - ETA: 0s - loss: 0.6985 - accuracy: 0.5726\n",
      "Epoch 102: loss improved from 0.69955 to 0.69852, saving model to nextword1.h5\n",
      "61/61 [==============================] - 14s 235ms/step - loss: 0.6985 - accuracy: 0.5726 - lr: 0.0010\n",
      "Epoch 103/150\n",
      "61/61 [==============================] - ETA: 0s - loss: 0.6974 - accuracy: 0.5750\n",
      "Epoch 103: loss improved from 0.69852 to 0.69743, saving model to nextword1.h5\n",
      "61/61 [==============================] - 15s 249ms/step - loss: 0.6974 - accuracy: 0.5750 - lr: 0.0010\n",
      "Epoch 104/150\n",
      "61/61 [==============================] - ETA: 0s - loss: 0.6964 - accuracy: 0.5729\n",
      "Epoch 104: loss improved from 0.69743 to 0.69640, saving model to nextword1.h5\n",
      "61/61 [==============================] - 18s 302ms/step - loss: 0.6964 - accuracy: 0.5729 - lr: 0.0010\n",
      "Epoch 105/150\n",
      "61/61 [==============================] - ETA: 0s - loss: 0.6957 - accuracy: 0.5739\n",
      "Epoch 105: loss improved from 0.69640 to 0.69570, saving model to nextword1.h5\n",
      "61/61 [==============================] - 17s 279ms/step - loss: 0.6957 - accuracy: 0.5739 - lr: 0.0010\n",
      "Epoch 106/150\n",
      "61/61 [==============================] - ETA: 0s - loss: 0.6960 - accuracy: 0.5724\n",
      "Epoch 106: loss did not improve from 0.69570\n",
      "61/61 [==============================] - 12s 197ms/step - loss: 0.6960 - accuracy: 0.5724 - lr: 0.0010\n",
      "Epoch 107/150\n",
      "61/61 [==============================] - ETA: 0s - loss: 0.6927 - accuracy: 0.5775\n",
      "Epoch 107: loss improved from 0.69570 to 0.69268, saving model to nextword1.h5\n",
      "61/61 [==============================] - 14s 232ms/step - loss: 0.6927 - accuracy: 0.5775 - lr: 0.0010\n",
      "Epoch 108/150\n",
      "61/61 [==============================] - ETA: 0s - loss: 0.6946 - accuracy: 0.5793\n",
      "Epoch 108: loss did not improve from 0.69268\n",
      "61/61 [==============================] - 9s 140ms/step - loss: 0.6946 - accuracy: 0.5793 - lr: 0.0010\n",
      "Epoch 109/150\n",
      "61/61 [==============================] - ETA: 0s - loss: 0.6914 - accuracy: 0.5793\n",
      "Epoch 109: loss improved from 0.69268 to 0.69135, saving model to nextword1.h5\n",
      "61/61 [==============================] - 22s 363ms/step - loss: 0.6914 - accuracy: 0.5793 - lr: 0.0010\n",
      "Epoch 110/150\n",
      "61/61 [==============================] - ETA: 0s - loss: 0.6933 - accuracy: 0.5747\n",
      "Epoch 110: loss did not improve from 0.69135\n",
      "61/61 [==============================] - 15s 216ms/step - loss: 0.6933 - accuracy: 0.5747 - lr: 0.0010\n",
      "Epoch 111/150\n",
      "61/61 [==============================] - ETA: 0s - loss: 0.6921 - accuracy: 0.5786\n",
      "Epoch 111: loss did not improve from 0.69135\n",
      "61/61 [==============================] - 8s 129ms/step - loss: 0.6921 - accuracy: 0.5786 - lr: 0.0010\n",
      "Epoch 112/150\n",
      "61/61 [==============================] - ETA: 0s - loss: 0.6885 - accuracy: 0.5747\n",
      "Epoch 112: loss improved from 0.69135 to 0.68850, saving model to nextword1.h5\n",
      "61/61 [==============================] - 15s 248ms/step - loss: 0.6885 - accuracy: 0.5747 - lr: 0.0010\n",
      "Epoch 113/150\n",
      "61/61 [==============================] - ETA: 0s - loss: 0.6876 - accuracy: 0.5737\n",
      "Epoch 113: loss improved from 0.68850 to 0.68761, saving model to nextword1.h5\n",
      "61/61 [==============================] - 20s 331ms/step - loss: 0.6876 - accuracy: 0.5737 - lr: 0.0010\n",
      "Epoch 114/150\n",
      "61/61 [==============================] - ETA: 0s - loss: 0.6842 - accuracy: 0.5737\n",
      "Epoch 114: loss improved from 0.68761 to 0.68423, saving model to nextword1.h5\n",
      "61/61 [==============================] - 19s 309ms/step - loss: 0.6842 - accuracy: 0.5737 - lr: 0.0010\n",
      "Epoch 115/150\n",
      "61/61 [==============================] - ETA: 0s - loss: 0.6863 - accuracy: 0.5780\n",
      "Epoch 115: loss did not improve from 0.68423\n",
      "61/61 [==============================] - 12s 193ms/step - loss: 0.6863 - accuracy: 0.5780 - lr: 0.0010\n",
      "Epoch 116/150\n",
      "61/61 [==============================] - ETA: 0s - loss: 0.6846 - accuracy: 0.5739\n",
      "Epoch 116: loss did not improve from 0.68423\n",
      "61/61 [==============================] - 11s 187ms/step - loss: 0.6846 - accuracy: 0.5739 - lr: 0.0010\n",
      "Epoch 117/150\n",
      "61/61 [==============================] - ETA: 0s - loss: 0.6845 - accuracy: 0.5729\n",
      "Epoch 117: loss did not improve from 0.68423\n",
      "\n",
      "Epoch 117: ReduceLROnPlateau reducing learning rate to 0.00020000000949949026.\n",
      "61/61 [==============================] - 9s 152ms/step - loss: 0.6845 - accuracy: 0.5729 - lr: 0.0010\n",
      "Epoch 118/150\n",
      "61/61 [==============================] - ETA: 0s - loss: 0.6048 - accuracy: 0.6295\n",
      "Epoch 118: loss improved from 0.68423 to 0.60478, saving model to nextword1.h5\n",
      "61/61 [==============================] - 19s 319ms/step - loss: 0.6048 - accuracy: 0.6295 - lr: 2.0000e-04\n",
      "Epoch 119/150\n",
      "61/61 [==============================] - ETA: 0s - loss: 0.5999 - accuracy: 0.6215\n",
      "Epoch 119: loss improved from 0.60478 to 0.59992, saving model to nextword1.h5\n",
      "61/61 [==============================] - 21s 352ms/step - loss: 0.5999 - accuracy: 0.6215 - lr: 2.0000e-04\n",
      "Epoch 120/150\n",
      "61/61 [==============================] - ETA: 0s - loss: 0.5973 - accuracy: 0.6110\n",
      "Epoch 120: loss improved from 0.59992 to 0.59731, saving model to nextword1.h5\n",
      "61/61 [==============================] - 10s 173ms/step - loss: 0.5973 - accuracy: 0.6110 - lr: 2.0000e-04\n",
      "Epoch 121/150\n",
      "61/61 [==============================] - ETA: 0s - loss: 0.5961 - accuracy: 0.6032\n",
      "Epoch 121: loss improved from 0.59731 to 0.59607, saving model to nextword1.h5\n",
      "61/61 [==============================] - 11s 174ms/step - loss: 0.5961 - accuracy: 0.6032 - lr: 2.0000e-04\n",
      "Epoch 122/150\n",
      "61/61 [==============================] - ETA: 0s - loss: 0.5959 - accuracy: 0.5989\n",
      "Epoch 122: loss improved from 0.59607 to 0.59588, saving model to nextword1.h5\n",
      "61/61 [==============================] - 11s 177ms/step - loss: 0.5959 - accuracy: 0.5989 - lr: 2.0000e-04\n",
      "Epoch 123/150\n",
      "61/61 [==============================] - ETA: 0s - loss: 0.5951 - accuracy: 0.5883\n",
      "Epoch 123: loss improved from 0.59588 to 0.59512, saving model to nextword1.h5\n",
      "61/61 [==============================] - 10s 172ms/step - loss: 0.5951 - accuracy: 0.5883 - lr: 2.0000e-04\n",
      "Epoch 124/150\n",
      "61/61 [==============================] - ETA: 0s - loss: 0.5946 - accuracy: 0.5906\n",
      "Epoch 124: loss improved from 0.59512 to 0.59459, saving model to nextword1.h5\n",
      "61/61 [==============================] - 11s 174ms/step - loss: 0.5946 - accuracy: 0.5906 - lr: 2.0000e-04\n",
      "Epoch 125/150\n",
      "61/61 [==============================] - ETA: 0s - loss: 0.5940 - accuracy: 0.5822\n",
      "Epoch 125: loss improved from 0.59459 to 0.59400, saving model to nextword1.h5\n",
      "61/61 [==============================] - 11s 174ms/step - loss: 0.5940 - accuracy: 0.5822 - lr: 2.0000e-04\n",
      "Epoch 126/150\n",
      "61/61 [==============================] - ETA: 0s - loss: 0.5937 - accuracy: 0.5809\n",
      "Epoch 126: loss improved from 0.59400 to 0.59372, saving model to nextword1.h5\n",
      "61/61 [==============================] - 11s 175ms/step - loss: 0.5937 - accuracy: 0.5809 - lr: 2.0000e-04\n",
      "Epoch 127/150\n",
      "61/61 [==============================] - ETA: 0s - loss: 0.5941 - accuracy: 0.5786\n",
      "Epoch 127: loss did not improve from 0.59372\n",
      "61/61 [==============================] - 6s 101ms/step - loss: 0.5941 - accuracy: 0.5786 - lr: 2.0000e-04\n",
      "Epoch 128/150\n",
      "61/61 [==============================] - ETA: 0s - loss: 0.5939 - accuracy: 0.5783\n",
      "Epoch 128: loss did not improve from 0.59372\n",
      "61/61 [==============================] - 6s 102ms/step - loss: 0.5939 - accuracy: 0.5783 - lr: 2.0000e-04\n",
      "Epoch 129/150\n",
      "61/61 [==============================] - ETA: 0s - loss: 0.5937 - accuracy: 0.5755\n",
      "Epoch 129: loss did not improve from 0.59372\n",
      "\n",
      "Epoch 129: ReduceLROnPlateau reducing learning rate to 0.0001.\n",
      "61/61 [==============================] - 6s 102ms/step - loss: 0.5937 - accuracy: 0.5755 - lr: 2.0000e-04\n",
      "Epoch 130/150\n",
      "61/61 [==============================] - ETA: 0s - loss: 0.5811 - accuracy: 0.5896\n",
      "Epoch 130: loss improved from 0.59372 to 0.58107, saving model to nextword1.h5\n",
      "61/61 [==============================] - 11s 181ms/step - loss: 0.5811 - accuracy: 0.5896 - lr: 1.0000e-04\n",
      "Epoch 131/150\n",
      "61/61 [==============================] - ETA: 0s - loss: 0.5809 - accuracy: 0.5793\n",
      "Epoch 131: loss improved from 0.58107 to 0.58092, saving model to nextword1.h5\n",
      "61/61 [==============================] - 11s 174ms/step - loss: 0.5809 - accuracy: 0.5793 - lr: 1.0000e-04\n",
      "Epoch 132/150\n",
      "61/61 [==============================] - ETA: 0s - loss: 0.5810 - accuracy: 0.5786\n",
      "Epoch 132: loss did not improve from 0.58092\n",
      "61/61 [==============================] - 6s 101ms/step - loss: 0.5810 - accuracy: 0.5786 - lr: 1.0000e-04\n",
      "Epoch 133/150\n",
      "61/61 [==============================] - ETA: 0s - loss: 0.5809 - accuracy: 0.5801\n",
      "Epoch 133: loss improved from 0.58092 to 0.58089, saving model to nextword1.h5\n",
      "61/61 [==============================] - 11s 175ms/step - loss: 0.5809 - accuracy: 0.5801 - lr: 1.0000e-04\n",
      "Epoch 134/150\n",
      "61/61 [==============================] - ETA: 0s - loss: 0.5809 - accuracy: 0.5796\n",
      "Epoch 134: loss did not improve from 0.58089\n",
      "61/61 [==============================] - 6s 101ms/step - loss: 0.5809 - accuracy: 0.5796 - lr: 1.0000e-04\n",
      "Epoch 135/150\n",
      "61/61 [==============================] - ETA: 0s - loss: 0.5808 - accuracy: 0.5719\n",
      "Epoch 135: loss improved from 0.58089 to 0.58078, saving model to nextword1.h5\n",
      "61/61 [==============================] - 10s 170ms/step - loss: 0.5808 - accuracy: 0.5719 - lr: 1.0000e-04\n",
      "Epoch 136/150\n",
      "61/61 [==============================] - ETA: 0s - loss: 0.5806 - accuracy: 0.5832\n",
      "Epoch 136: loss improved from 0.58078 to 0.58065, saving model to nextword1.h5\n",
      "61/61 [==============================] - 11s 183ms/step - loss: 0.5806 - accuracy: 0.5832 - lr: 1.0000e-04\n",
      "Epoch 137/150\n",
      "61/61 [==============================] - ETA: 0s - loss: 0.5806 - accuracy: 0.5783\n",
      "Epoch 137: loss improved from 0.58065 to 0.58064, saving model to nextword1.h5\n",
      "61/61 [==============================] - 11s 180ms/step - loss: 0.5806 - accuracy: 0.5783 - lr: 1.0000e-04\n",
      "Epoch 138/150\n",
      "61/61 [==============================] - ETA: 0s - loss: 0.5806 - accuracy: 0.5721\n",
      "Epoch 138: loss improved from 0.58064 to 0.58062, saving model to nextword1.h5\n",
      "61/61 [==============================] - 11s 181ms/step - loss: 0.5806 - accuracy: 0.5721 - lr: 1.0000e-04\n",
      "Epoch 139/150\n",
      "61/61 [==============================] - ETA: 0s - loss: 0.5805 - accuracy: 0.5696\n",
      "Epoch 139: loss improved from 0.58062 to 0.58049, saving model to nextword1.h5\n",
      "61/61 [==============================] - 10s 172ms/step - loss: 0.5805 - accuracy: 0.5696 - lr: 1.0000e-04\n",
      "Epoch 140/150\n",
      "61/61 [==============================] - ETA: 0s - loss: 0.5808 - accuracy: 0.5737\n",
      "Epoch 140: loss did not improve from 0.58049\n",
      "61/61 [==============================] - 8s 129ms/step - loss: 0.5808 - accuracy: 0.5737 - lr: 1.0000e-04\n",
      "Epoch 141/150\n",
      "61/61 [==============================] - ETA: 0s - loss: 0.5807 - accuracy: 0.5768\n",
      "Epoch 141: loss did not improve from 0.58049\n",
      "61/61 [==============================] - 6s 101ms/step - loss: 0.5807 - accuracy: 0.5768 - lr: 1.0000e-04\n",
      "Epoch 142/150\n",
      "61/61 [==============================] - ETA: 0s - loss: 0.5803 - accuracy: 0.5804\n",
      "Epoch 142: loss improved from 0.58049 to 0.58033, saving model to nextword1.h5\n",
      "61/61 [==============================] - 11s 176ms/step - loss: 0.5803 - accuracy: 0.5804 - lr: 1.0000e-04\n",
      "Epoch 143/150\n",
      "61/61 [==============================] - ETA: 0s - loss: 0.5807 - accuracy: 0.5765\n",
      "Epoch 143: loss did not improve from 0.58033\n",
      "61/61 [==============================] - 8s 128ms/step - loss: 0.5807 - accuracy: 0.5765 - lr: 1.0000e-04\n",
      "Epoch 144/150\n",
      "61/61 [==============================] - ETA: 0s - loss: 0.5805 - accuracy: 0.5739\n",
      "Epoch 144: loss did not improve from 0.58033\n",
      "61/61 [==============================] - 6s 101ms/step - loss: 0.5805 - accuracy: 0.5739 - lr: 1.0000e-04\n",
      "Epoch 145/150\n",
      "61/61 [==============================] - ETA: 0s - loss: 0.5803 - accuracy: 0.5726\n",
      "Epoch 145: loss improved from 0.58033 to 0.58026, saving model to nextword1.h5\n",
      "61/61 [==============================] - 8s 139ms/step - loss: 0.5803 - accuracy: 0.5726 - lr: 1.0000e-04\n",
      "Epoch 146/150\n",
      "61/61 [==============================] - ETA: 0s - loss: 0.5804 - accuracy: 0.5726\n",
      "Epoch 146: loss did not improve from 0.58026\n",
      "61/61 [==============================] - 6s 103ms/step - loss: 0.5804 - accuracy: 0.5726 - lr: 1.0000e-04\n",
      "Epoch 147/150\n",
      "61/61 [==============================] - ETA: 0s - loss: 0.5809 - accuracy: 0.5786\n",
      "Epoch 147: loss did not improve from 0.58026\n",
      "61/61 [==============================] - 8s 134ms/step - loss: 0.5809 - accuracy: 0.5786 - lr: 1.0000e-04\n",
      "Epoch 148/150\n",
      "61/61 [==============================] - ETA: 0s - loss: 0.5801 - accuracy: 0.5685\n",
      "Epoch 148: loss improved from 0.58026 to 0.58009, saving model to nextword1.h5\n",
      "61/61 [==============================] - 12s 199ms/step - loss: 0.5801 - accuracy: 0.5685 - lr: 1.0000e-04\n",
      "Epoch 149/150\n",
      "61/61 [==============================] - ETA: 0s - loss: 0.5805 - accuracy: 0.5662\n",
      "Epoch 149: loss did not improve from 0.58009\n",
      "61/61 [==============================] - 6s 103ms/step - loss: 0.5805 - accuracy: 0.5662 - lr: 1.0000e-04\n",
      "Epoch 150/150\n",
      "61/61 [==============================] - ETA: 0s - loss: 0.5804 - accuracy: 0.5752\n",
      "Epoch 150: loss did not improve from 0.58009\n",
      "61/61 [==============================] - 6s 103ms/step - loss: 0.5804 - accuracy: 0.5752 - lr: 1.0000e-04\n"
     ]
    }
   ],
   "source": [
    "history = model.fit(X, y, epochs=150, batch_size=64, callbacks=[checkpoint, reduce, tensorboard_Visualization])"
   ]
  },
  {
   "cell_type": "code",
   "execution_count": 20,
   "id": "be541707",
   "metadata": {},
   "outputs": [
    {
     "name": "stderr",
     "output_type": "stream",
     "text": [
      "C:\\Users\\admin\\AppData\\Local\\Temp/ipykernel_21396/2876344870.py:7: UserWarning: Tight layout not applied. The bottom and top margins cannot be made large enough to accommodate all axes decorations.\n",
      "  fig.tight_layout(pad=50.0)\n"
     ]
    },
    {
     "data": {
      "image/png": "[encoded data removed]",
      "text/plain": [
       "<Figure size 1080x720 with 2 Axes>"
      ]
     },
     "metadata": {
      "needs_background": "light"
     },
     "output_type": "display_data"
    }
   ],
   "source": [
    "# Plotting the loss and accuracy achieved by the model in each epoch\n",
    "fig, ax = plt.subplots(nrows=1, ncols=2,figsize=(15,10))\n",
    "ax[0].plot(history.history['loss'])\n",
    "ax[1].plot(history.history['accuracy'])\n",
    "ax[0].set_title('model loss')\n",
    "ax[1].set_title('model Accuracy')\n",
    "fig.tight_layout(pad=50.0)\n",
    "plt.show()"
   ]
  },
  {
   "cell_type": "code",
   "execution_count": null,
   "id": "78011598",
   "metadata": {},
   "outputs": [],
   "source": []
  }
 ],
 "metadata": {
  "kernelspec": {
   "display_name": "Python 3",
   "language": "python",
   "name": "python3"
  },
  "language_info": {
   "codemirror_mode": {
    "name": "ipython",
    "version": 3
   },
   "file_extension": ".py",
   "mimetype": "text/x-python",
   "name": "python",
   "nbconvert_exporter": "python",
   "pygments_lexer": "ipython3",
   "version": "3.9.5"
  }
 },
 "nbformat": 4,
 "nbformat_minor": 5
}
